{
 "cells": [
  {
   "cell_type": "code",
   "execution_count": 1,
   "metadata": {},
   "outputs": [],
   "source": [
    "from sklearn.linear_model import LinearRegression, Lasso, Ridge, ElasticNet"
   ]
  },
  {
   "cell_type": "code",
   "execution_count": 2,
   "metadata": {},
   "outputs": [],
   "source": [
    "from sklearn.model_selection import train_test_split"
   ]
  },
  {
   "cell_type": "markdown",
   "metadata": {},
   "source": [
    "## Exercice\n",
    "Comparer l'apprentissage polynomial avec ces quatres estimateurs. En particulier sur la courbes de comparaisons des scores sur les ensembles d'entrainement et de test."
   ]
  },
  {
   "cell_type": "code",
   "execution_count": 3,
   "metadata": {},
   "outputs": [],
   "source": [
    "import numpy as np\n",
    "import matplotlib.pyplot as plt"
   ]
  },
  {
   "cell_type": "code",
   "execution_count": 4,
   "metadata": {},
   "outputs": [],
   "source": [
    "a, b = -1, 1\n",
    "nb_points = 50"
   ]
  },
  {
   "cell_type": "code",
   "execution_count": 5,
   "metadata": {},
   "outputs": [],
   "source": [
    "def cible(x):\n",
    "    return np.exp(-20 * x ** 2)"
   ]
  },
  {
   "cell_type": "code",
   "execution_count": 6,
   "metadata": {},
   "outputs": [],
   "source": [
    "def gen_puissance(xs, degres):\n",
    "    puissances = [xs ** k for k in range(0, degres + 1)]\n",
    "    X = np.stack(puissances)\n",
    "    return X.T"
   ]
  },
  {
   "cell_type": "code",
   "execution_count": 7,
   "metadata": {},
   "outputs": [],
   "source": [
    "xs = np.random.uniform(low=a, high=b, size=(nb_points))"
   ]
  },
  {
   "cell_type": "code",
   "execution_count": 8,
   "metadata": {},
   "outputs": [],
   "source": [
    "y = cible(xs)"
   ]
  },
  {
   "cell_type": "code",
   "execution_count": 9,
   "metadata": {},
   "outputs": [
    {
     "ename": "NameError",
     "evalue": "name 'ech' is not defined",
     "output_type": "error",
     "traceback": [
      "\u001b[1;31m---------------------------------------------------------------------------\u001b[0m",
      "\u001b[1;31mNameError\u001b[0m                                 Traceback (most recent call last)",
      "\u001b[1;32m<ipython-input-9-1c3b57af2e57>\u001b[0m in \u001b[0;36m<module>\u001b[1;34m\u001b[0m\n\u001b[0;32m      1\u001b[0m \u001b[0mfig\u001b[0m\u001b[1;33m,\u001b[0m \u001b[0max\u001b[0m \u001b[1;33m=\u001b[0m \u001b[0mplt\u001b[0m\u001b[1;33m.\u001b[0m\u001b[0msubplots\u001b[0m\u001b[1;33m(\u001b[0m\u001b[1;33m)\u001b[0m\u001b[1;33m\u001b[0m\u001b[1;33m\u001b[0m\u001b[0m\n\u001b[1;32m----> 2\u001b[1;33m \u001b[0mech\u001b[0m\u001b[1;33m.\u001b[0m\u001b[0maffichage\u001b[0m\u001b[1;33m(\u001b[0m\u001b[0max\u001b[0m\u001b[1;33m)\u001b[0m\u001b[1;33m\u001b[0m\u001b[1;33m\u001b[0m\u001b[0m\n\u001b[0m",
      "\u001b[1;31mNameError\u001b[0m: name 'ech' is not defined"
     ]
    },
    {
     "data": {
      "image/png": "[encoded data removed]",
      "text/plain": [
       "<Figure size 432x288 with 1 Axes>"
      ]
     },
     "metadata": {
      "needs_background": "light"
     },
     "output_type": "display_data"
    }
   ],
   "source": [
    "fig, ax = plt.subplots()\n",
    "ech.affichage(ax)"
   ]
  },
  {
   "cell_type": "code",
   "execution_count": null,
   "metadata": {},
   "outputs": [],
   "source": [
    "def biais_variance(degres):\n",
    "    X = gen_puissance(xs, degres=degres)\n",
    "    \n",
    "    Xtr, Xte, ytr, yte = train_test_split(X, \n",
    "                                          y, \n",
    "                                          test_size=0.2,\n",
    "                                          random_state=42\n",
    "                                         )\n",
    "    lr = LinearRegression(fit_intercept=False)\n",
    "    lr.fit(Xtr, ytr)\n",
    "    lasso = Lasso(fit_intercept=False)\n",
    "    lasso.fit(Xtr, ytr)\n",
    "    ridge = Ridge(fit_intercept=False)\n",
    "    ridge.fit(Xtr, ytr)\n",
    "    en = ElasticNet(fit_intercept=False)\n",
    "    en.fit(Xtr, ytr)\n",
    "    return {\n",
    "        \"lr\" : (lr.score(Xtr, ytr), lr.score(Xte, yte)),\n",
    "        \"lasso\" : (lasso.score(Xtr, ytr), lasso.score(Xte, yte)),\n",
    "        \"ridge\" : (ridge.score(Xtr, ytr), ridge.score(Xte, yte)),\n",
    "        \"en\" : (en.score(Xtr, ytr), en.score(Xte, yte)),\n",
    "    }"
   ]
  },
  {
   "cell_type": "code",
   "execution_count": null,
   "metadata": {},
   "outputs": [],
   "source": [
    "degres = list(range(2, 31))\n",
    "dico_doubles = [biais_variance(d) for d in degres]\n",
    "fig, axs = plt.subplots(ncols=2, nrows=2, sharey=True, figsize=(12, 8))\n",
    "\n",
    "for ax, genre in zip(axs.flatten(), [\"lr\", \"lasso\", \"ridge\", \"en\"]):\n",
    "    scores_tr = [sc[genre][0] for sc in dico_doubles]\n",
    "    scores_te = [sc[genre][1] for sc in dico_doubles]\n",
    "    ax.plot(degres, scores_tr, label=\"entrainement\")\n",
    "    ax.plot(degres, scores_te, label=\"test\")\n",
    "    ax.set_title(genre)\n",
    "    ax.legend()\n",
    "    ax.set_ylim(-1, 1.5)"
   ]
  },
  {
   "cell_type": "markdown",
   "metadata": {},
   "source": [
    "### Exercice\n",
    "Comparer les courbes pour ridge, lasso et elasticnet avec différents paramètres de pénalisation."
   ]
  },
  {
   "cell_type": "code",
   "execution_count": null,
   "metadata": {},
   "outputs": [],
   "source": [
    "ElasticNet?"
   ]
  },
  {
   "cell_type": "code",
   "execution_count": null,
   "metadata": {},
   "outputs": [],
   "source": [
    "def biais_variance(degres, alpha):\n",
    "    X = gen_puissance(xs, degres=degres)\n",
    "    \n",
    "    Xtr, Xte, ytr, yte = train_test_split(X, \n",
    "                                          y, \n",
    "                                          test_size=0.2,\n",
    "                                          random_state=42\n",
    "                                         )\n",
    "    lr = LinearRegression(fit_intercept=False)\n",
    "    lr.fit(Xtr, ytr)\n",
    "    lasso = Lasso(fit_intercept=False, alpha=alpha)\n",
    "    lasso.fit(Xtr, ytr)\n",
    "    ridge = Ridge(fit_intercept=False, alpha=alpha)\n",
    "    ridge.fit(Xtr, ytr)\n",
    "    en = ElasticNet(fit_intercept=False, alpha=alpha)\n",
    "    en.fit(Xtr, ytr)\n",
    "    return {\n",
    "        \"lr\" : (lr.score(Xtr, ytr), lr.score(Xte, yte)),\n",
    "        \"lasso\" : (lasso.score(Xtr, ytr), lasso.score(Xte, yte)),\n",
    "        \"ridge\" : (ridge.score(Xtr, ytr), ridge.score(Xte, yte)),\n",
    "        \"en\" : (en.score(Xtr, ytr), en.score(Xte, yte)),\n",
    "    }"
   ]
  },
  {
   "cell_type": "code",
   "execution_count": null,
   "metadata": {},
   "outputs": [],
   "source": [
    "def affichage(alpha):\n",
    "    degres = list(range(2, 31))\n",
    "    dico_doubles = [biais_variance(d, alpha) for d in degres]\n",
    "    fig, axs = plt.subplots(ncols=2, nrows=2, sharey=True, figsize=(12, 8))\n",
    "\n",
    "    for ax, genre in zip(axs.flatten(), [\"lr\", \"lasso\", \"ridge\", \"en\"]):\n",
    "        scores_tr = [sc[genre][0] for sc in dico_doubles]\n",
    "        scores_te = [sc[genre][1] for sc in dico_doubles]\n",
    "        ax.plot(degres, scores_tr, label=\"entrainement\")\n",
    "        ax.plot(degres, scores_te, label=\"test\")\n",
    "        ax.set_title(genre)\n",
    "        ax.legend()\n",
    "        ax.set_ylim(-1, 1.5)"
   ]
  },
  {
   "cell_type": "code",
   "execution_count": null,
   "metadata": {},
   "outputs": [],
   "source": [
    "affichage(0.5)"
   ]
  },
  {
   "cell_type": "code",
   "execution_count": null,
   "metadata": {},
   "outputs": [],
   "source": [
    "affichage(1)"
   ]
  },
  {
   "cell_type": "code",
   "execution_count": null,
   "metadata": {},
   "outputs": [],
   "source": [
    "affichage(0.1) #0.1 en pénalisation"
   ]
  },
  {
   "cell_type": "code",
   "execution_count": null,
   "metadata": {},
   "outputs": [],
   "source": [
    "affichage(0.01)"
   ]
  },
  {
   "cell_type": "code",
   "execution_count": null,
   "metadata": {},
   "outputs": [],
   "source": [
    "affichage(0.001)"
   ]
  },
  {
   "cell_type": "markdown",
   "metadata": {},
   "source": [
    "### Exercice\n",
    "En utilisant la documentation de RidgeCV,LassoCV et Elasticnet, déterminer les \"meilleurs\" choix de pénalisation."
   ]
  },
  {
   "cell_type": "code",
   "execution_count": null,
   "metadata": {},
   "outputs": [],
   "source": [
    "from sklearn.linear_model import RidgeCV"
   ]
  },
  {
   "cell_type": "code",
   "execution_count": null,
   "metadata": {},
   "outputs": [],
   "source": [
    "RidgeCV(alphas=(0.1, 1.0, 10.0), fit_intercept=True, normalize=False, scoring=None, cv=None, gcv_mode=None, store_cv_values=False)"
   ]
  },
  {
   "cell_type": "code",
   "execution_count": null,
   "metadata": {},
   "outputs": [],
   "source": [
    "from sklearn.linear_model import LassoCV"
   ]
  },
  {
   "cell_type": "code",
   "execution_count": null,
   "metadata": {},
   "outputs": [],
   "source": [
    "LassoCV(eps=0.001, n_alphas=100, alphas=None, fit_intercept=True, normalize=False, precompute='auto', max_iter=1000, tol=0.0001, copy_X=True, cv='warn', verbose=False, n_jobs=None, positive=False, random_state=None, selection='cyclic')"
   ]
  },
  {
   "cell_type": "code",
   "execution_count": null,
   "metadata": {},
   "outputs": [],
   "source": [
    "def biais_variance(degres, alpha):\n",
    "    X = gen_puissance(xs, degres=degres)\n",
    "    \n",
    "    Xtr, Xte, ytr, yte = train_test_split(X, \n",
    "                                          y, \n",
    "                                          test_size=0.2,\n",
    "                                          random_state=42\n",
    "                                         )\n",
    "    lr = LinearRegression(fit_intercept=False)\n",
    "    lr.fit(Xtr, ytr)\n",
    "    lasso = Lasso(fit_intercept=False, alpha=alpha)\n",
    "    lasso.fit(Xtr, ytr)\n",
    "    ridge = Ridge(fit_intercept=False, alpha=alpha)\n",
    "    ridge.fit(Xtr, ytr)\n",
    "    en = ElasticNet(fit_intercept=False, alpha=alpha)\n",
    "    en.fit(Xtr, ytr)\n",
    "    return {\n",
    "        \"lr\" : (lr.score(Xtr, ytr), lr.score(Xte, yte)),\n",
    "        \"lasso\" : (lasso.score(Xtr, ytr), lasso.score(Xte, yte)),\n",
    "        \"ridge\" : (ridge.score(Xtr, ytr), ridge.score(Xte, yte)),\n",
    "        \"en\" : (en.score(Xtr, ytr), en.score(Xte, yte)),\n",
    "    }"
   ]
  },
  {
   "cell_type": "code",
   "execution_count": null,
   "metadata": {},
   "outputs": [],
   "source": [
    "def affichage(alpha):\n",
    "    degres = list(range(2, 31))\n",
    "    dico_doubles = [biais_variance(d, alpha) for d in degres]\n",
    "    fig, axs = plt.subplots(ncols=2, nrows=2, sharey=True, figsize=(12, 8))\n",
    "\n",
    "    for ax, genre in zip(axs.flatten(), [\"lr\", \"lasso\", \"ridge\", \"en\"]):\n",
    "        scores_tr = [sc[genre][0] for sc in dico_doubles]\n",
    "        scores_te = [sc[genre][1] for sc in dico_doubles]\n",
    "        ax.plot(degres, scores_tr, label=\"entrainement\")\n",
    "        ax.plot(degres, scores_te, label=\"test\")\n",
    "        ax.set_title(genre)\n",
    "        ax.legend()\n",
    "        ax.set_ylim(-1, 1.5)"
   ]
  },
  {
   "cell_type": "code",
   "execution_count": null,
   "metadata": {},
   "outputs": [],
   "source": [
    "degres = list(range(2, 31))\n",
    "dico_doubles = [biais_variance(d) for d in degres]\n",
    "fig, axs = plt.subplots(ncols=2, nrows=2, sharey=True, figsize=(12, 8))\n",
    "\n",
    "for ax, genre in zip(axs.flatten(), [\"lr\", \"lasso\", \"ridge\", \"en\"]):\n",
    "    scores_tr = [sc[genre][0] for sc in dico_doubles]\n",
    "    scores_te = [sc[genre][1] for sc in dico_doubles]\n",
    "    ax.plot(degres, scores_tr, label=\"entrainement\")\n",
    "    ax.plot(degres, scores_te, label=\"test\")\n",
    "    ax.set_title(genre)\n",
    "    ax.legend()\n",
    "    ax.set_ylim(-1, 1.5)"
   ]
  },
  {
   "cell_type": "markdown",
   "metadata": {},
   "source": [
    "### Exercice\n",
    "- Récupérer le jeu de données iris.\n",
    "- Faire de la classification avec k plus proche voisins, regression logistique et naive bayes\n",
    "- Selectionner les hyperparamètres éventuels via cross validation."
   ]
  },
  {
   "cell_type": "code",
   "execution_count": null,
   "metadata": {},
   "outputs": [],
   "source": [
    "from sklearn.datasets import load_iris "
   ]
  },
  {
   "cell_type": "code",
   "execution_count": null,
   "metadata": {},
   "outputs": [],
   "source": [
    "irisData = load_iris()\n"
   ]
  },
  {
   "cell_type": "code",
   "execution_count": null,
   "metadata": {},
   "outputs": [],
   "source": [
    "dir(irisData)"
   ]
  },
  {
   "cell_type": "code",
   "execution_count": null,
   "metadata": {},
   "outputs": [],
   "source": [
    "irisData.data"
   ]
  },
  {
   "cell_type": "code",
   "execution_count": null,
   "metadata": {},
   "outputs": [],
   "source": [
    "irisData.feature_names"
   ]
  },
  {
   "cell_type": "code",
   "execution_count": null,
   "metadata": {},
   "outputs": [],
   "source": [
    "irisData.target_names"
   ]
  },
  {
   "cell_type": "code",
   "execution_count": 10,
   "metadata": {},
   "outputs": [
    {
     "ename": "NameError",
     "evalue": "name 'irisData' is not defined",
     "output_type": "error",
     "traceback": [
      "\u001b[1;31m---------------------------------------------------------------------------\u001b[0m",
      "\u001b[1;31mNameError\u001b[0m                                 Traceback (most recent call last)",
      "\u001b[1;32m<ipython-input-10-899590ae5364>\u001b[0m in \u001b[0;36m<module>\u001b[1;34m\u001b[0m\n\u001b[1;32m----> 1\u001b[1;33m \u001b[0mX_e\u001b[0m\u001b[1;33m,\u001b[0m \u001b[0mX_t\u001b[0m\u001b[1;33m,\u001b[0m \u001b[0my_e\u001b[0m\u001b[1;33m,\u001b[0m \u001b[0my_t\u001b[0m \u001b[1;33m=\u001b[0m \u001b[0mtrain_test_split\u001b[0m\u001b[1;33m(\u001b[0m\u001b[0mirisData\u001b[0m\u001b[1;33m.\u001b[0m\u001b[0mdata\u001b[0m\u001b[1;33m,\u001b[0m \u001b[0mirisData\u001b[0m\u001b[1;33m.\u001b[0m\u001b[0mtarget\u001b[0m\u001b[1;33m,\u001b[0m \u001b[0mtest_size\u001b[0m\u001b[1;33m=\u001b[0m\u001b[1;36m0.1\u001b[0m\u001b[1;33m)\u001b[0m\u001b[1;33m\u001b[0m\u001b[1;33m\u001b[0m\u001b[0m\n\u001b[0m",
      "\u001b[1;31mNameError\u001b[0m: name 'irisData' is not defined"
     ]
    }
   ],
   "source": [
    "X_e, X_t, y_e, y_t = train_test_split(irisData.data, irisData.target, test_size=0.1)"
   ]
  },
  {
   "cell_type": "code",
   "execution_count": null,
   "metadata": {},
   "outputs": [],
   "source": [
    "from sklearn.naive_bayes import GaussianNB"
   ]
  },
  {
   "cell_type": "code",
   "execution_count": null,
   "metadata": {},
   "outputs": [],
   "source": [
    "from sklearn.linear_model import LogisticRegressionCV"
   ]
  },
  {
   "cell_type": "code",
   "execution_count": null,
   "metadata": {},
   "outputs": [],
   "source": [
    "from sklearn.neighbors import KNeighborsClassifier"
   ]
  },
  {
   "cell_type": "code",
   "execution_count": null,
   "metadata": {},
   "outputs": [],
   "source": [
    "lr = LogisticRegressionCV(multi_class =\"auto\", cv = 5)"
   ]
  }
 ],
 "metadata": {
  "kernelspec": {
   "display_name": "Python 3",
   "language": "python",
   "name": "python3"
  },
  "language_info": {
   "codemirror_mode": {
    "name": "ipython",
    "version": 3
   },
   "file_extension": ".py",
   "mimetype": "text/x-python",
   "name": "python",
   "nbconvert_exporter": "python",
   "pygments_lexer": "ipython3",
   "version": "3.7.4"
  }
 },
 "nbformat": 4,
 "nbformat_minor": 2
}
