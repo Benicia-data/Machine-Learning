{
 "cells": [
  {
   "cell_type": "code",
   "execution_count": 1,
   "metadata": {},
   "outputs": [],
   "source": [
    "import pytest"
   ]
  },
  {
   "cell_type": "code",
   "execution_count": 2,
   "metadata": {},
   "outputs": [
    {
     "data": {
      "text/plain": [
       "['Class',\n",
       " 'Collector',\n",
       " 'File',\n",
       " 'Function',\n",
       " 'Generator',\n",
       " 'Instance',\n",
       " 'Item',\n",
       " 'Module',\n",
       " 'Package',\n",
       " 'PytestDeprecationWarning',\n",
       " 'PytestExperimentalApiWarning',\n",
       " 'PytestWarning',\n",
       " 'RemovedInPytest4Warning',\n",
       " 'Session',\n",
       " 'UsageError',\n",
       " '__all__',\n",
       " '__builtins__',\n",
       " '__cached__',\n",
       " '__doc__',\n",
       " '__file__',\n",
       " '__loader__',\n",
       " '__name__',\n",
       " '__package__',\n",
       " '__pytestPDB',\n",
       " '__spec__',\n",
       " '__version__',\n",
       " '_fillfuncargs',\n",
       " '_setup_collect_fakemodule',\n",
       " 'approx',\n",
       " 'cmdline',\n",
       " 'collect',\n",
       " 'deprecated_call',\n",
       " 'exit',\n",
       " 'fail',\n",
       " 'fixture',\n",
       " 'freeze_includes',\n",
       " 'hookimpl',\n",
       " 'hookspec',\n",
       " 'importorskip',\n",
       " 'main',\n",
       " 'mark',\n",
       " 'param',\n",
       " 'raises',\n",
       " 'register_assert_rewrite',\n",
       " 'set_trace',\n",
       " 'skip',\n",
       " 'warns',\n",
       " 'xfail',\n",
       " 'yield_fixture']"
      ]
     },
     "execution_count": 2,
     "metadata": {},
     "output_type": "execute_result"
    }
   ],
   "source": [
    "dir(pytest)"
   ]
  },
  {
   "cell_type": "code",
   "execution_count": null,
   "metadata": {},
   "outputs": [],
   "source": []
  }
 ],
 "metadata": {
  "kernelspec": {
   "display_name": "Python 3",
   "language": "python",
   "name": "python3"
  },
  "language_info": {
   "codemirror_mode": {
    "name": "ipython",
    "version": 3
   },
   "file_extension": ".py",
   "mimetype": "text/x-python",
   "name": "python",
   "nbconvert_exporter": "python",
   "pygments_lexer": "ipython3",
   "version": "3.7.0"
  }
 },
 "nbformat": 4,
 "nbformat_minor": 2
}
